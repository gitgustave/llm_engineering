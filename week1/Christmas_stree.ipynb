{
 "cells": [
  {
   "cell_type": "code",
   "execution_count": 10,
   "id": "42b6aeaf-4a29-4a10-9f5a-4c7c8c5c6790",
   "metadata": {},
   "outputs": [
    {
     "name": "stdout",
     "output_type": "stream",
     "text": [
      "\u001b[32m               \u001b[32m*\u001b[0m\n",
      "\u001b[32m              \u001b[32m***\u001b[0m\n",
      "\u001b[32m             \u001b[32m*****\u001b[0m\n",
      "\u001b[32m            \u001b[32m*******\u001b[0m\n",
      "\u001b[32m           \u001b[32m*********\u001b[0m\n",
      "\u001b[32m          \u001b[32m***********\u001b[0m\n",
      "\u001b[32m         \u001b[32m*************\u001b[0m\n",
      "\u001b[32m        \u001b[32m***************\u001b[0m\n",
      "\u001b[32m       \u001b[32m*****************\u001b[0m\n",
      "\u001b[31m              | | \u001b[0m\n",
      "\u001b[31m              | | \u001b[0m\n",
      "\u001b[31m              | | \u001b[0m\n",
      "\u001b[34m           \\=======/\u001b[0m\n"
     ]
    }
   ],
   "source": [
    "from colorama import Fore, Style\n",
    "import numpy as np\n",
    "z = np.column_stack((np.arange(15, 6, -1), np.arange(1, 18, 2)))\n",
    "[print(Fore.GREEN + ' '*i + Fore.GREEN + '*'*j + Style.RESET_ALL) for i, j in z]\n",
    "[print(Fore.RED + ' '*13 + ' | | ' + Style.RESET_ALL) for _ in range(3)]\n",
    "print(Fore.BLUE + ' '*11 +r'\\=======/' + Style.RESET_ALL)\n",
    "\n"
   ]
  },
  {
   "cell_type": "code",
   "execution_count": null,
   "id": "c5afcdbb-08b8-4b03-ac31-88428c8fcf30",
   "metadata": {},
   "outputs": [],
   "source": []
  }
 ],
 "metadata": {
  "kernelspec": {
   "display_name": "Python 3 (ipykernel)",
   "language": "python",
   "name": "python3"
  },
  "language_info": {
   "codemirror_mode": {
    "name": "ipython",
    "version": 3
   },
   "file_extension": ".py",
   "mimetype": "text/x-python",
   "name": "python",
   "nbconvert_exporter": "python",
   "pygments_lexer": "ipython3",
   "version": "3.11.11"
  }
 },
 "nbformat": 4,
 "nbformat_minor": 5
}
